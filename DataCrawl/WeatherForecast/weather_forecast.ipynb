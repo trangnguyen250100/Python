{
 "cells": [
  {
   "cell_type": "code",
   "execution_count": 11,
   "metadata": {},
   "outputs": [],
   "source": [
    "# Importing required libraries\n",
    "import requests \n",
    "from config import api_key\n",
    "import pandas as pd "
   ]
  },
  {
   "cell_type": "code",
   "execution_count": 12,
   "metadata": {},
   "outputs": [],
   "source": [
    "# Defining the API endpoint and neccessary parameters\n",
    "url = \"http://api.weatherapi.com/v1/forecast.json\"\n",
    "api_key = api_key\n",
    "q = \"Hanoi\"\n",
    "days = 7\n",
    "output_path = \"/Users/trangthu/Documents/Python/DataCrawl/WeatherForecast/output.csv\""
   ]
  },
  {
   "cell_type": "code",
   "execution_count": 13,
   "metadata": {},
   "outputs": [],
   "source": [
    "# Function to fetch data from the Weather API\n",
    "def get_data(api_key, q, days):\n",
    "\n",
    "    params = {\n",
    "        \"key\": api_key, \n",
    "        \"q\": q,\n",
    "        \"days\": days\n",
    "    }    \n",
    "    \n",
    "    response = requests.get(url=url, params=params)\n",
    "    \n",
    "    return response.json() "
   ]
  },
  {
   "cell_type": "code",
   "execution_count": 14,
   "metadata": {},
   "outputs": [],
   "source": [
    "# Fetching the data\n",
    "data = get_data(api_key=api_key, q=q, days=days)\n",
    "\n",
    "location = data[\"location\"]\n",
    "forecast_days = data[\"forecast\"][\"forecastday\"]\n",
    "\n",
    "forecast_data = [\n",
    "    {\n",
    "        **location, \n",
    "        \"date\": day[\"date\"],\n",
    "        **day[\"day\"]\n",
    "    }\n",
    "    for day in forecast_days\n",
    "]"
   ]
  },
  {
   "cell_type": "code",
   "execution_count": 15,
   "metadata": {},
   "outputs": [
    {
     "name": "stdout",
     "output_type": "stream",
     "text": [
      "The data has been saved to /Users/trangthu/Documents/Python/DataCrawl/WeatherForecast/output.csv\n"
     ]
    }
   ],
   "source": [
    "# Creating a DataFrame and Saving to CSV\n",
    "df = pd.DataFrame(forecast_data)\n",
    "\n",
    "columns_needed = [\"name\", \"country\", \"date\", \"maxtemp_c\", \"mintemp_c\", \"avgtemp_c\", \"totalprecip_mm\", \"avghumidity\", \"uv\"]\n",
    "df = df[columns_needed]\n",
    "\n",
    "df.to_csv(output_path, index=False, encoding=\"utf-8\")\n",
    "\n",
    "print(f\"The data has been saved to {output_path}\")"
   ]
  }
 ],
 "metadata": {
  "kernelspec": {
   "display_name": "3.11.11",
   "language": "python",
   "name": "python3"
  },
  "language_info": {
   "codemirror_mode": {
    "name": "ipython",
    "version": 3
   },
   "file_extension": ".py",
   "mimetype": "text/x-python",
   "name": "python",
   "nbconvert_exporter": "python",
   "pygments_lexer": "ipython3",
   "version": "3.11.11"
  }
 },
 "nbformat": 4,
 "nbformat_minor": 2
}
